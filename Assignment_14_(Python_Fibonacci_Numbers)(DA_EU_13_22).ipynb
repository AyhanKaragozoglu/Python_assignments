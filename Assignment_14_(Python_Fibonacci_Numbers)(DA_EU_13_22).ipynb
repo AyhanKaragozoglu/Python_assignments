{
  "nbformat": 4,
  "nbformat_minor": 0,
  "metadata": {
    "colab": {
      "provenance": [],
      "collapsed_sections": [],
      "authorship_tag": "ABX9TyPdeprUHPDNOrBsUhN7/zIU",
      "include_colab_link": true
    },
    "kernelspec": {
      "name": "python3",
      "display_name": "Python 3"
    },
    "language_info": {
      "name": "python"
    }
  },
  "cells": [
    {
      "cell_type": "markdown",
      "metadata": {
        "id": "view-in-github",
        "colab_type": "text"
      },
      "source": [
        "<a href=\"https://colab.research.google.com/github/AyhanKaragozoglu/Python_assignments/blob/main/Assignment_14_(Python_Fibonacci_Numbers)(DA_EU_13_22).ipynb\" target=\"_parent\"><img src=\"https://colab.research.google.com/assets/colab-badge.svg\" alt=\"Open In Colab\"/></a>"
      ]
    },
    {
      "cell_type": "code",
      "execution_count": null,
      "metadata": {
        "id": "08A9vyviQ_23"
      },
      "outputs": [],
      "source": []
    },
    {
      "cell_type": "markdown",
      "source": [
        "Objective:\n",
        "\n",
        "To improve your control flow statement skills and to raise your awareness of some algebraic knowledge.\n",
        "\n",
        "Write a Python code on any IDE, push it up to your GitHub repository and submit GitHub page address link in addition to your code (answer) as a plain text.\n",
        "\n",
        "\n",
        "Task : Create a list consisting of Fibonacci numbers from 1 to 55 using control flow statements and range() function.\n",
        "\n",
        "The desired output is like this:\n",
        "\n",
        "\n",
        "fibonacci →  [1, 1, 2, 3, 5, 8, 13, 21, 34, 55]"
      ],
      "metadata": {
        "id": "9AOrHxMTRQLk"
      }
    },
    {
      "cell_type": "code",
      "source": [
        "fibonacci = []\n",
        "for i in range(0, 56):\n",
        "  fibonacci.append((i + (i + 1)))\n",
        "print(fibonacci)"
      ],
      "metadata": {
        "colab": {
          "base_uri": "https://localhost:8080/"
        },
        "id": "_WHMq1PERXQ8",
        "outputId": "1849f6e7-2711-4b96-815a-e9a13c9be60b"
      },
      "execution_count": null,
      "outputs": [
        {
          "output_type": "stream",
          "name": "stdout",
          "text": [
            "[1, 3, 5, 7, 9, 11, 13, 15, 17, 19, 21, 23, 25, 27, 29, 31, 33, 35, 37, 39, 41, 43, 45, 47, 49, 51, 53, 55, 57, 59, 61, 63, 65, 67, 69, 71, 73, 75, 77, 79, 81, 83, 85, 87, 89, 91, 93, 95, 97, 99, 101, 103, 105, 107, 109, 111]\n"
          ]
        }
      ]
    },
    {
      "cell_type": "code",
      "source": [
        "fibonacci = [1]\n",
        "for i in range(0, 56):\n",
        "  fibonacci.append((i + fibonacci[-1]))\n",
        "print(fibonacci)"
      ],
      "metadata": {
        "colab": {
          "base_uri": "https://localhost:8080/"
        },
        "id": "G84dkCNkW_Qi",
        "outputId": "1b35cc0c-0619-433c-91d5-2dacede3f8b6"
      },
      "execution_count": null,
      "outputs": [
        {
          "output_type": "stream",
          "name": "stdout",
          "text": [
            "[1, 1, 2, 4, 7, 11, 16, 22, 29, 37, 46, 56, 67, 79, 92, 106, 121, 137, 154, 172, 191, 211, 232, 254, 277, 301, 326, 352, 379, 407, 436, 466, 497, 529, 562, 596, 631, 667, 704, 742, 781, 821, 862, 904, 947, 991, 1036, 1082, 1129, 1177, 1226, 1276, 1327, 1379, 1432, 1486, 1541]\n"
          ]
        }
      ]
    },
    {
      "cell_type": "code",
      "source": [
        "fibonacci = [0]\n",
        "for i in range(0, 56):\n",
        "  fibonacci.append((i + fibonacci[-1]))\n",
        "print(fibonacci)"
      ],
      "metadata": {
        "colab": {
          "base_uri": "https://localhost:8080/"
        },
        "id": "6lRdxgFMZ-Nv",
        "outputId": "6695e086-5735-4b30-e149-5388c06273d9"
      },
      "execution_count": null,
      "outputs": [
        {
          "output_type": "stream",
          "name": "stdout",
          "text": [
            "[0, 0, 1, 3, 6, 10, 15, 21, 28, 36, 45, 55, 66, 78, 91, 105, 120, 136, 153, 171, 190, 210, 231, 253, 276, 300, 325, 351, 378, 406, 435, 465, 496, 528, 561, 595, 630, 666, 703, 741, 780, 820, 861, 903, 946, 990, 1035, 1081, 1128, 1176, 1225, 1275, 1326, 1378, 1431, 1485, 1540]\n"
          ]
        }
      ]
    },
    {
      "cell_type": "code",
      "source": [
        "fibonacci = [0]\n",
        "for i in range(0, 11):\n",
        "  fibonacci.append((i - 2 + fibonacci[-1]))\n",
        "print(fibonacci)"
      ],
      "metadata": {
        "colab": {
          "base_uri": "https://localhost:8080/"
        },
        "id": "JTy4qcsEawBv",
        "outputId": "0315ce1f-323f-41d9-b567-a030d9731aed"
      },
      "execution_count": null,
      "outputs": [
        {
          "output_type": "stream",
          "name": "stdout",
          "text": [
            "[0, -2, -3, -3, -2, 0, 3, 7, 12, 18, 25, 33]\n"
          ]
        }
      ]
    },
    {
      "cell_type": "code",
      "source": [
        "fibonacci = [0]\n",
        "for i in range(0, 11):\n",
        "  fibonacci.append((i - 1 + fibonacci[-1]))\n",
        "print(fibonacci)"
      ],
      "metadata": {
        "colab": {
          "base_uri": "https://localhost:8080/"
        },
        "id": "fR6zQBt2rD2L",
        "outputId": "6989420a-e4a9-435b-9a3f-4d1c25eed252"
      },
      "execution_count": null,
      "outputs": [
        {
          "output_type": "stream",
          "name": "stdout",
          "text": [
            "[0, -1, -1, 0, 2, 5, 9, 14, 20, 27, 35, 44]\n"
          ]
        }
      ]
    },
    {
      "cell_type": "code",
      "source": [
        "fibonacci = [0]\n",
        "for i in range(0, 11):\n",
        "  fibonacci.append((i - 1 + fibonacci[-2]))\n",
        "print(fibonacci)"
      ],
      "metadata": {
        "colab": {
          "base_uri": "https://localhost:8080/",
          "height": 215
        },
        "id": "KrmdK2sQrI7r",
        "outputId": "786cc39a-0a7e-4c0e-956e-71584641f8b1"
      },
      "execution_count": null,
      "outputs": [
        {
          "output_type": "error",
          "ename": "IndexError",
          "evalue": "ignored",
          "traceback": [
            "\u001b[0;31m---------------------------------------------------------------------------\u001b[0m",
            "\u001b[0;31mIndexError\u001b[0m                                Traceback (most recent call last)",
            "\u001b[0;32m<ipython-input-16-f7d7aa4d9071>\u001b[0m in \u001b[0;36m<module>\u001b[0;34m\u001b[0m\n\u001b[1;32m      1\u001b[0m \u001b[0mfibonacci\u001b[0m \u001b[0;34m=\u001b[0m \u001b[0;34m[\u001b[0m\u001b[0;36m0\u001b[0m\u001b[0;34m]\u001b[0m\u001b[0;34m\u001b[0m\u001b[0;34m\u001b[0m\u001b[0m\n\u001b[1;32m      2\u001b[0m \u001b[0;32mfor\u001b[0m \u001b[0mi\u001b[0m \u001b[0;32min\u001b[0m \u001b[0mrange\u001b[0m\u001b[0;34m(\u001b[0m\u001b[0;36m0\u001b[0m\u001b[0;34m,\u001b[0m \u001b[0;36m11\u001b[0m\u001b[0;34m)\u001b[0m\u001b[0;34m:\u001b[0m\u001b[0;34m\u001b[0m\u001b[0;34m\u001b[0m\u001b[0m\n\u001b[0;32m----> 3\u001b[0;31m   \u001b[0mfibonacci\u001b[0m\u001b[0;34m.\u001b[0m\u001b[0mappend\u001b[0m\u001b[0;34m(\u001b[0m\u001b[0;34m(\u001b[0m\u001b[0mi\u001b[0m \u001b[0;34m-\u001b[0m \u001b[0;36m1\u001b[0m \u001b[0;34m+\u001b[0m \u001b[0mfibonacci\u001b[0m\u001b[0;34m[\u001b[0m\u001b[0;34m-\u001b[0m\u001b[0;36m2\u001b[0m\u001b[0;34m]\u001b[0m\u001b[0;34m)\u001b[0m\u001b[0;34m)\u001b[0m\u001b[0;34m\u001b[0m\u001b[0;34m\u001b[0m\u001b[0m\n\u001b[0m\u001b[1;32m      4\u001b[0m \u001b[0mprint\u001b[0m\u001b[0;34m(\u001b[0m\u001b[0mfibonacci\u001b[0m\u001b[0;34m)\u001b[0m\u001b[0;34m\u001b[0m\u001b[0;34m\u001b[0m\u001b[0m\n",
            "\u001b[0;31mIndexError\u001b[0m: list index out of range"
          ]
        }
      ]
    },
    {
      "cell_type": "code",
      "source": [
        "fibonacci = [0, 0]\n",
        "for i in range(0, 11):\n",
        "  fibonacci.append((i - 1 + fibonacci[-2]))\n",
        "print(fibonacci)"
      ],
      "metadata": {
        "colab": {
          "base_uri": "https://localhost:8080/"
        },
        "id": "qUHzIt4frQ3B",
        "outputId": "9528f031-a79c-4c8f-9d83-4ecbdb5f2dbd"
      },
      "execution_count": null,
      "outputs": [
        {
          "output_type": "stream",
          "name": "stdout",
          "text": [
            "[0, 0, -1, 0, 0, 2, 3, 6, 8, 12, 15, 20, 24]\n"
          ]
        }
      ]
    },
    {
      "cell_type": "code",
      "source": [
        "fibo = [0]\n",
        "def fibonacci (i) :\n",
        "\n",
        "  for i in range(0, 11):\n",
        "  fibo.append((fibonacci[-1] + fibonacci[-2]))\n",
        "print(fibonacci)"
      ],
      "metadata": {
        "colab": {
          "base_uri": "https://localhost:8080/",
          "height": 130
        },
        "id": "muqhmlk2rkiI",
        "outputId": "0b6153cf-891a-4188-968d-1889e33855e6"
      },
      "execution_count": null,
      "outputs": [
        {
          "output_type": "error",
          "ename": "IndentationError",
          "evalue": "ignored",
          "traceback": [
            "\u001b[0;36m  File \u001b[0;32m\"<ipython-input-22-9dc693162310>\"\u001b[0;36m, line \u001b[0;32m5\u001b[0m\n\u001b[0;31m    fibo.append((fibonacci[-1] + fibonacci[-2]))\u001b[0m\n\u001b[0m       ^\u001b[0m\n\u001b[0;31mIndentationError\u001b[0m\u001b[0;31m:\u001b[0m expected an indented block\n"
          ]
        }
      ]
    },
    {
      "cell_type": "code",
      "source": [
        "fibo = [0]\n",
        "def fibonacci (i) :\n",
        "  return i + i-1\n",
        "\n",
        " \n",
        "  \n",
        "[fibonacci(i) for i in range(55)]"
      ],
      "metadata": {
        "colab": {
          "base_uri": "https://localhost:8080/"
        },
        "id": "ywiUIX-msuGU",
        "outputId": "dd63e902-e59d-4865-b931-e96964caa3f8"
      },
      "execution_count": 8,
      "outputs": [
        {
          "output_type": "execute_result",
          "data": {
            "text/plain": [
              "[-1,\n",
              " 1,\n",
              " 3,\n",
              " 5,\n",
              " 7,\n",
              " 9,\n",
              " 11,\n",
              " 13,\n",
              " 15,\n",
              " 17,\n",
              " 19,\n",
              " 21,\n",
              " 23,\n",
              " 25,\n",
              " 27,\n",
              " 29,\n",
              " 31,\n",
              " 33,\n",
              " 35,\n",
              " 37,\n",
              " 39,\n",
              " 41,\n",
              " 43,\n",
              " 45,\n",
              " 47,\n",
              " 49,\n",
              " 51,\n",
              " 53,\n",
              " 55,\n",
              " 57,\n",
              " 59,\n",
              " 61,\n",
              " 63,\n",
              " 65,\n",
              " 67,\n",
              " 69,\n",
              " 71,\n",
              " 73,\n",
              " 75,\n",
              " 77,\n",
              " 79,\n",
              " 81,\n",
              " 83,\n",
              " 85,\n",
              " 87,\n",
              " 89,\n",
              " 91,\n",
              " 93,\n",
              " 95,\n",
              " 97,\n",
              " 99,\n",
              " 101,\n",
              " 103,\n",
              " 105,\n",
              " 107]"
            ]
          },
          "metadata": {},
          "execution_count": 8
        }
      ]
    }
  ]
}