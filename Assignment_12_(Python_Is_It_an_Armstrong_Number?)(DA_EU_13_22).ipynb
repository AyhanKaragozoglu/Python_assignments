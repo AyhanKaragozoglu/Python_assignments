{
  "nbformat": 4,
  "nbformat_minor": 0,
  "metadata": {
    "colab": {
      "provenance": [],
      "authorship_tag": "ABX9TyOPRRJdPpjSM4bH5oTRnzIO"
    },
    "kernelspec": {
      "name": "python3",
      "display_name": "Python 3"
    },
    "language_info": {
      "name": "python"
    }
  },
  "cells": [
    {
      "cell_type": "markdown",
      "source": [
        "Objective:\n",
        "\n",
        "To improve your control flow statement and arithmetic operator algorithm skills.\n",
        "Write your Python codes on any IDE, push it up to your GitHub (do it if you have an account) repository and submit your GitHub Page link address in addition to your code as a plain text.\n",
        " \n",
        "Task:\n",
        "\n",
        "\n",
        "Find out if a given number is an \"Armstrong Number\".\n",
        "\n",
        "\n",
        "An n-digit number that is the sum of the nth powers of its digits is called an n-Armstrong number. Examples :\n",
        "371 = 33 + 73 + 13;\n",
        "9474 = 94 + 44 + 74 + 44;\n",
        "93084 = 95 + 35 + 05 + 85 + 45.\n",
        "\n",
        "\n",
        "Write a Python program that;\n",
        "takes a positive integer number from the user,\n",
        "checks the entered number if it is Armstrong,\n",
        "consider the negative, float and any entries other than numeric values then display a warning message to the user.\n",
        "\n",
        "\n",
        "\n",
        "Examples\n",
        "Sample inputs\tOutputs\n",
        "407\t407 is an Armstrong number\n",
        "5\t5 is an Armstrong number\n",
        " -153\t It is an invalid entry. Don't use non-numeric, float, or negative values!\n",
        " 153.87 or 153,87\t It is an invalid entry. Don't use non-numeric, float, or negative values!\n",
        " one\t It is an invalid entry. Don't use non-numeric, float, or negative values!\n",
        " 121\t 121 is not an Armstrong number"
      ],
      "metadata": {
        "id": "2JWnokuAPUzC"
      }
    },
    {
      "cell_type": "code",
      "execution_count": null,
      "metadata": {
        "id": "9-WrQVbxPSaI"
      },
      "outputs": [],
      "source": [
        "a = int(input(\"sayı gir\"\"))\n",
        "basamak_sayısı = 0\n",
        "count = 0\n",
        "\n",
        "while a != 0 :\n",
        "  a /= 10"
      ]
    },
    {
      "cell_type": "code",
      "source": [
        "sayi = int(input(\"Sayıyı Giriniz:\"))\n",
        "basamak = int(input(\"Basamak Sayısını Giriniz:\"))\n",
        "toplam =0\n",
        "\n",
        "\n",
        "\n",
        "for i in range(0, basamak+1):\n",
        "  rakam = i % 10\n",
        "  toplam += rakam ** basamak\n",
        "    i // = 10\n",
        "\n",
        "  if sayi == toplam :\n",
        "      print(\"Bu Bir Armstrong Sayısıdır.\")\n",
        "else:\n",
        "    print(\"Armstong Sayısı Degildir.\")"
      ],
      "metadata": {
        "colab": {
          "base_uri": "https://localhost:8080/",
          "height": 130
        },
        "id": "nqa1W4K4SkiW",
        "outputId": "5c05f186-3acc-4763-ef92-639cf58c67c7"
      },
      "execution_count": 12,
      "outputs": [
        {
          "output_type": "error",
          "ename": "IndentationError",
          "evalue": "ignored",
          "traceback": [
            "\u001b[0;36m  File \u001b[0;32m\"<ipython-input-12-1f6ecb0c1718>\"\u001b[0;36m, line \u001b[0;32m10\u001b[0m\n\u001b[0;31m    i // = 10\u001b[0m\n\u001b[0m    ^\u001b[0m\n\u001b[0;31mIndentationError\u001b[0m\u001b[0;31m:\u001b[0m unexpected indent\n"
          ]
        }
      ]
    },
    {
      "cell_type": "code",
      "source": [
        "sayi = int(input(\"Sayıyı Giriniz:\"))\n",
        "basamak = str(sayi)\n",
        "\n",
        "toplam=0\n",
        "\n",
        "for i in basamak:\n",
        "  rakam = int(i)**len(basamak)\n",
        "  toplam += rakam\n",
        "\n",
        "if(sayi == toplam):\n",
        "  print(\"Bu Bir Armstrong Sayısıdır.\")\n",
        "else:\n",
        "  print(\"Armstong Sayısı Degildir.\")"
      ],
      "metadata": {
        "colab": {
          "base_uri": "https://localhost:8080/"
        },
        "id": "NedgQvbLTL53",
        "outputId": "47bfbc6a-54be-4c30-e195-68c418cda177"
      },
      "execution_count": 13,
      "outputs": [
        {
          "output_type": "stream",
          "name": "stdout",
          "text": [
            "Sayıyı Giriniz:407\n",
            "Bu Bir Armstrong Sayısıdır.\n"
          ]
        }
      ]
    }
  ]
}