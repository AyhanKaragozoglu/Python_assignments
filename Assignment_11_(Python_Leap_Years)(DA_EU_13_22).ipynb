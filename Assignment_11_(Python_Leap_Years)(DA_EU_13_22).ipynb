{
  "nbformat": 4,
  "nbformat_minor": 0,
  "metadata": {
    "colab": {
      "provenance": [],
      "authorship_tag": "ABX9TyOM2xafU1SF/YQKPu58k7Ki",
      "include_colab_link": true
    },
    "kernelspec": {
      "name": "python3",
      "display_name": "Python 3"
    },
    "language_info": {
      "name": "python"
    }
  },
  "cells": [
    {
      "cell_type": "markdown",
      "metadata": {
        "id": "view-in-github",
        "colab_type": "text"
      },
      "source": [
        "<a href=\"https://colab.research.google.com/github/AyhanKaragozoglu/Python_assignments/blob/main/Assignment_11_(Python_Leap_Years)(DA_EU_13_22).ipynb\" target=\"_parent\"><img src=\"https://colab.research.google.com/assets/colab-badge.svg\" alt=\"Open In Colab\"/></a>"
      ]
    },
    {
      "cell_type": "markdown",
      "source": [
        "Task:\n",
        "\n",
        "Find out if a given year is a \"leap\" year.\n",
        "\n",
        "In the Gregorian calendar, three criteria must be taken into account to identify leap years:\n",
        "The year must be evenly divisible by 4;\n",
        "If the year can also be evenly divided by 100, it is not a leap year; unless...\n",
        "\n",
        "The year is also evenly divisible by 400. Then it is a leap year.\n",
        "According to these rules, the years 2000 and 2400 are leap years, while 1800, 1900, 2100, 2200, 2300, and 2500 are not the leap years.\n",
        "\n",
        "Write a Python program that prints such as \"2020 is a leap year\" if the given year by the user is a leap year, prints such as \"2019 is not a leap year\" otherwise."
      ],
      "metadata": {
        "id": "DH3fSiYAqYvw"
      }
    },
    {
      "cell_type": "code",
      "execution_count": 2,
      "metadata": {
        "colab": {
          "base_uri": "https://localhost:8080/"
        },
        "id": "ORrUvCKxqT6o",
        "outputId": "c37be548-a007-43a9-d5fe-4042dc1e3797"
      },
      "outputs": [
        {
          "output_type": "stream",
          "name": "stdout",
          "text": [
            "enter a year please: 2200\n",
            "False\n"
          ]
        }
      ],
      "source": [
        "year = int(input(\"enter a year please: \"))\n",
        "\n",
        "leap = (year % 4 == 0) and (year % 100 != 0 or year % 400 == 0)\n",
        "\n",
        "print(leap)"
      ]
    }
  ]
}