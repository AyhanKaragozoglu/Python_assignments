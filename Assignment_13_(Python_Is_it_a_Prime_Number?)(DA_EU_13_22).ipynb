{
  "nbformat": 4,
  "nbformat_minor": 0,
  "metadata": {
    "colab": {
      "provenance": [],
      "authorship_tag": "ABX9TyM5vajaP7scGAIYNkR9HN7z",
      "include_colab_link": true
    },
    "kernelspec": {
      "name": "python3",
      "display_name": "Python 3"
    },
    "language_info": {
      "name": "python"
    }
  },
  "cells": [
    {
      "cell_type": "markdown",
      "metadata": {
        "id": "view-in-github",
        "colab_type": "text"
      },
      "source": [
        "<a href=\"https://colab.research.google.com/github/AyhanKaragozoglu/Python_assignments/blob/main/Assignment_13_(Python_Is_it_a_Prime_Number%3F)(DA_EU_13_22).ipynb\" target=\"_parent\"><img src=\"https://colab.research.google.com/assets/colab-badge.svg\" alt=\"Open In Colab\"/></a>"
      ]
    },
    {
      "cell_type": "code",
      "execution_count": null,
      "metadata": {
        "colab": {
          "base_uri": "https://localhost:8080/",
          "height": 249
        },
        "id": "fYw20QZoc6h8",
        "outputId": "57b96cac-03fb-4667-dda5-36cd04aab1ba"
      },
      "outputs": [
        {
          "name": "stdout",
          "output_type": "stream",
          "text": [
            "enter a number: 45\n"
          ]
        },
        {
          "output_type": "error",
          "ename": "TypeError",
          "evalue": "ignored",
          "traceback": [
            "\u001b[0;31m---------------------------------------------------------------------------\u001b[0m",
            "\u001b[0;31mTypeError\u001b[0m                                 Traceback (most recent call last)",
            "\u001b[0;32m<ipython-input-2-03a4c1b37831>\u001b[0m in \u001b[0;36m<module>\u001b[0;34m\u001b[0m\n\u001b[1;32m      2\u001b[0m \u001b[0;34m\u001b[0m\u001b[0m\n\u001b[1;32m      3\u001b[0m \u001b[0;34m\u001b[0m\u001b[0m\n\u001b[0;32m----> 4\u001b[0;31m \u001b[0;32mif\u001b[0m \u001b[0mnumber\u001b[0m \u001b[0;34m/\u001b[0m \u001b[0mnumber\u001b[0m \u001b[0;32mand\u001b[0m \u001b[0mnumber\u001b[0m \u001b[0;34m/\u001b[0m \u001b[0mrange\u001b[0m\u001b[0;34m(\u001b[0m\u001b[0;36m0\u001b[0m\u001b[0;34m,\u001b[0m \u001b[0mnumber\u001b[0m\u001b[0;34m)\u001b[0m \u001b[0;34m:\u001b[0m\u001b[0;34m\u001b[0m\u001b[0;34m\u001b[0m\u001b[0m\n\u001b[0m\u001b[1;32m      5\u001b[0m   \u001b[0mprint\u001b[0m\u001b[0;34m(\u001b[0m\u001b[0;34m\"asal sayı\"\u001b[0m\u001b[0;34m)\u001b[0m\u001b[0;34m\u001b[0m\u001b[0;34m\u001b[0m\u001b[0m\n\u001b[1;32m      6\u001b[0m \u001b[0;32melse\u001b[0m \u001b[0;34m:\u001b[0m\u001b[0;34m\u001b[0m\u001b[0;34m\u001b[0m\u001b[0m\n",
            "\u001b[0;31mTypeError\u001b[0m: unsupported operand type(s) for /: 'int' and 'range'"
          ]
        }
      ],
      "source": [
        "number = int(input(\"enter a number: \"))\n",
        "\n",
        "\n",
        "if number / number and number / range(0, number) :\n",
        "  print(\"asal sayı\")\n",
        "else : \n",
        "  print(\"asal değil\")"
      ]
    },
    {
      "cell_type": "code",
      "source": [],
      "metadata": {
        "id": "3G7aarAaafOa"
      },
      "execution_count": null,
      "outputs": []
    },
    {
      "cell_type": "code",
      "source": [
        "number = int(input(\"bir sayi gir: \"))\n",
        "\n",
        "for i in range(1, number + 1) :\n",
        "    if number % i == 0 :\n",
        "      print(f\"{number} asal sayı değil\")\n",
        "     \n",
        "\n",
        "    else : \n",
        "      print(f\"{number} asal sayıdır\")\n"
      ],
      "metadata": {
        "id": "cxtw-5RQpUpP",
        "colab": {
          "base_uri": "https://localhost:8080/"
        },
        "outputId": "d8bc62ee-cf95-4057-e899-d561f9e2055e"
      },
      "execution_count": 6,
      "outputs": [
        {
          "output_type": "stream",
          "name": "stdout",
          "text": [
            "bir sayi gir: 13\n",
            "13 asal sayı değil\n"
          ]
        }
      ]
    },
    {
      "cell_type": "code",
      "source": [
        "number = int(input(\"enter a number: \"))\n",
        "i = 1\n",
        "while i < number:\n",
        "  if number % i == 0:\n",
        "    print(\"asl sayı değil\")\n",
        "    break\n",
        "  else : \n",
        "    print(\"asal sayıdır\")"
      ],
      "metadata": {
        "id": "DK57WMOfziju",
        "colab": {
          "base_uri": "https://localhost:8080/"
        },
        "outputId": "a1706634-a2a3-4cfc-aa07-735cf103b011"
      },
      "execution_count": 5,
      "outputs": [
        {
          "output_type": "stream",
          "name": "stdout",
          "text": [
            "enter a number: 7\n",
            "asl sayı değil\n"
          ]
        }
      ]
    },
    {
      "cell_type": "code",
      "source": [
        "\n",
        "number=int(input(\"bir sayi giriniz:\"))\n",
        "\n",
        "count = 0\n",
        "for i in range(2,number + 1) :\n",
        "        if number % i == 0 : \n",
        "          count += 1\n",
        "if count == 1 :\n",
        "        print (f\"{number} bir asal sayıdır.\")\n",
        "else:\n",
        "        print (f\"{number} bir asal sayı değildir.\")\n",
        " \n",
        "\n"
      ],
      "metadata": {
        "id": "3l9CDW9daofg",
        "colab": {
          "base_uri": "https://localhost:8080/"
        },
        "outputId": "11286f71-4e57-40b0-db8c-1d6c4c23f449"
      },
      "execution_count": 22,
      "outputs": [
        {
          "output_type": "stream",
          "name": "stdout",
          "text": [
            "bir sayi giriniz:49\n",
            "49 bir asal sayı değildir.\n"
          ]
        }
      ]
    },
    {
      "cell_type": "code",
      "source": [],
      "metadata": {
        "id": "G07tGJm4_Ctg"
      },
      "execution_count": null,
      "outputs": []
    },
    {
      "cell_type": "code",
      "source": [],
      "metadata": {
        "id": "6VgDFeKNasCG"
      },
      "execution_count": null,
      "outputs": []
    },
    {
      "cell_type": "code",
      "source": [],
      "metadata": {
        "id": "O8IGT3Lkasjm"
      },
      "execution_count": null,
      "outputs": []
    }
  ]
}