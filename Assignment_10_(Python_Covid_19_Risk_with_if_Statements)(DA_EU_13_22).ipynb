{
  "nbformat": 4,
  "nbformat_minor": 0,
  "metadata": {
    "colab": {
      "provenance": [],
      "collapsed_sections": [],
      "authorship_tag": "ABX9TyNSZQYFYib2pk+bB9lu0YFf",
      "include_colab_link": true
    },
    "kernelspec": {
      "name": "python3",
      "display_name": "Python 3"
    },
    "language_info": {
      "name": "python"
    }
  },
  "cells": [
    {
      "cell_type": "markdown",
      "metadata": {
        "id": "view-in-github",
        "colab_type": "text"
      },
      "source": [
        "<a href=\"https://colab.research.google.com/github/AyhanKaragozoglu/Python_assignments/blob/main/Assignment_10_(Python_Covid_19_Risk_with_if_Statements)(DA_EU_13_22).ipynb\" target=\"_parent\"><img src=\"https://colab.research.google.com/assets/colab-badge.svg\" alt=\"Open In Colab\"/></a>"
      ]
    },
    {
      "cell_type": "code",
      "source": [
        "age = bool(int(input(\"yaş 75 den büyükse (evet:1, hayır:0) :\")))\n",
        "chronic = bool(int(input(\"kronik hastalık varsa (evet:1, hayır:0) :\")))\n",
        "immune = bool(int(input(\"bağışıklık sistemin zayır mı? (evet:1, hayır:0): \")))\n",
        "\n",
        "risk = age or chronic or immune\n",
        "if risk:\n",
        "  print(\"risk grubundasınız\")\n",
        "else:\n",
        "  print(\"risk gurubunda değilsiniz\")\n"
      ],
      "metadata": {
        "colab": {
          "base_uri": "https://localhost:8080/"
        },
        "id": "crpNGYofgHo7",
        "outputId": "8722f645-43d1-449f-d242-f1c55571cabf"
      },
      "execution_count": 19,
      "outputs": [
        {
          "output_type": "stream",
          "name": "stdout",
          "text": [
            "yaş 75 den büyükse (evet:1, hayır:0) :1\n",
            "kronik hastalık varsa (evet:1, hayır:0) :0\n",
            "bağışıklık sistemin zayır mı? (evet:1, hayır:0): 1\n",
            "risk grubundasınız\n"
          ]
        }
      ]
    }
  ]
}